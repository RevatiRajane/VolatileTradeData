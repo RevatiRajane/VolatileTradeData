{
  "nbformat": 4,
  "nbformat_minor": 0,
  "metadata": {
    "colab": {
      "name": "Intraday Data Jan2021.ipynb",
      "provenance": [],
      "collapsed_sections": []
    },
    "kernelspec": {
      "name": "python3",
      "display_name": "Python 3"
    }
  },
  "cells": [
    {
      "cell_type": "code",
      "metadata": {
        "colab": {
          "base_uri": "https://localhost:8080/"
        },
        "id": "e_yqQ-b49vby",
        "outputId": "48f37d61-c70c-4bb7-f4e1-112a603f44b7"
      },
      "source": [
        "!pip install alpha_vantage \r\n",
        " \r\n",
        "from alpha_vantage.timeseries import TimeSeries \r\n",
        " # Collected data for AMC GME KSS BB BBBY EXPR KOSS\r\n",
        "ts = TimeSeries(key='Your-API-Key', output_format='pandas') \r\n",
        "data, meta_data = ts.get_intraday(symbol='KOSS',interval='1min',outputsize='full')  \r\n",
        "data.to_csv('KOSS.csv')"
      ],
      "execution_count": 17,
      "outputs": [
        {
          "output_type": "stream",
          "text": [
            "Requirement already satisfied: alpha_vantage in /usr/local/lib/python3.6/dist-packages (2.3.1)\n",
            "Requirement already satisfied: requests in /usr/local/lib/python3.6/dist-packages (from alpha_vantage) (2.23.0)\n",
            "Requirement already satisfied: aiohttp in /usr/local/lib/python3.6/dist-packages (from alpha_vantage) (3.7.3)\n",
            "Requirement already satisfied: chardet<4,>=3.0.2 in /usr/local/lib/python3.6/dist-packages (from requests->alpha_vantage) (3.0.4)\n",
            "Requirement already satisfied: urllib3!=1.25.0,!=1.25.1,<1.26,>=1.21.1 in /usr/local/lib/python3.6/dist-packages (from requests->alpha_vantage) (1.24.3)\n",
            "Requirement already satisfied: certifi>=2017.4.17 in /usr/local/lib/python3.6/dist-packages (from requests->alpha_vantage) (2020.12.5)\n",
            "Requirement already satisfied: idna<3,>=2.5 in /usr/local/lib/python3.6/dist-packages (from requests->alpha_vantage) (2.10)\n",
            "Requirement already satisfied: multidict<7.0,>=4.5 in /usr/local/lib/python3.6/dist-packages (from aiohttp->alpha_vantage) (5.1.0)\n",
            "Requirement already satisfied: attrs>=17.3.0 in /usr/local/lib/python3.6/dist-packages (from aiohttp->alpha_vantage) (20.3.0)\n",
            "Requirement already satisfied: yarl<2.0,>=1.0 in /usr/local/lib/python3.6/dist-packages (from aiohttp->alpha_vantage) (1.6.3)\n",
            "Requirement already satisfied: typing-extensions>=3.6.5 in /usr/local/lib/python3.6/dist-packages (from aiohttp->alpha_vantage) (3.7.4.3)\n",
            "Requirement already satisfied: async-timeout<4.0,>=3.0 in /usr/local/lib/python3.6/dist-packages (from aiohttp->alpha_vantage) (3.0.1)\n",
            "Requirement already satisfied: idna-ssl>=1.0; python_version < \"3.7\" in /usr/local/lib/python3.6/dist-packages (from aiohttp->alpha_vantage) (1.1.0)\n",
            "                     1. open  2. high  3. low  4. close  5. volume\n",
            "date                                                              \n",
            "2021-01-27 20:00:00  49.0500  50.0000  49.050   50.0000     2247.0\n",
            "2021-01-27 19:59:00  49.8000  50.4000  48.200   48.2000     1314.0\n",
            "2021-01-27 19:58:00  50.1000  50.8600  49.950   50.8600     2701.0\n",
            "2021-01-27 19:57:00  50.4800  50.4800  49.000   50.0000     3463.0\n",
            "2021-01-27 19:56:00  49.8800  50.4800  49.880   50.4800     2830.0\n",
            "...                      ...      ...     ...       ...        ...\n",
            "2021-01-14 09:47:00   3.1250   3.1250   3.125    3.1250      300.0\n",
            "2021-01-14 09:42:00   3.2165   3.2197   3.210    3.2197      381.0\n",
            "2021-01-14 09:37:00   3.1300   3.1300   3.130    3.1300      200.0\n",
            "2021-01-14 09:33:00   3.0310   3.0310   3.031    3.0310      179.0\n",
            "2021-01-14 09:31:00   3.1000   3.1000   3.100    3.1000     1595.0\n",
            "\n",
            "[3084 rows x 5 columns]\n"
          ],
          "name": "stdout"
        }
      ]
    },
    {
      "cell_type": "code",
      "metadata": {
        "id": "WtTLjiQW9vYq"
      },
      "source": [
        ""
      ],
      "execution_count": null,
      "outputs": []
    }
  ]
}